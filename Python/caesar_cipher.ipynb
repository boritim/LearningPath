{
 "cells": [
  {
   "cell_type": "code",
   "execution_count": 6,
   "metadata": {},
   "outputs": [
    {
     "name": "stdout",
     "output_type": "stream",
     "text": [
      "Encrypted: Khoor, Zruog!\n",
      "Decrypted: Hello, World!\n"
     ]
    }
   ],
   "source": [
    "def caesar_cipher(text, shift):\n",
    "    result = \"\"\n",
    "\n",
    "    for char in text:\n",
    "        if char.isalpha():\n",
    "            # Определяем начало алфавита (A или a)\n",
    "            start = ord('A') if char.isupper() else ord('a')\n",
    "            # Находим позицию буквы в алфавите\n",
    "            pos = ord(char) - start\n",
    "            # Применяем сдвиг\n",
    "            new_pos = (pos + shift) % 26\n",
    "            # Преобразуем обратно в символ\n",
    "            result += chr(start + new_pos)\n",
    "        else:\n",
    "            # Если символ не является буквой, оставляем его без изменений\n",
    "            result += char\n",
    "\n",
    "    return result\n",
    "\n",
    "# Пример использования\n",
    "text = \"Hello, World!\"\n",
    "shift = 3\n",
    "encrypted_text = caesar_cipher(text, shift)\n",
    "print(\"Encrypted:\", encrypted_text)\n",
    "\n",
    "# Для расшифровки можно использовать отрицательный сдвиг\n",
    "decrypted_text = caesar_cipher(encrypted_text, -shift)\n",
    "print(\"Decrypted:\", decrypted_text)"
   ]
  },
  {
   "cell_type": "code",
   "execution_count": 20,
   "metadata": {},
   "outputs": [
    {
     "name": "stdout",
     "output_type": "stream",
     "text": [
      "97\n",
      "25\n",
      "25\n",
      "z\n"
     ]
    }
   ],
   "source": [
    "start = ord('a')\n",
    "print(start)\n",
    "pos = ord('z') - start\n",
    "print(pos)\n",
    "position = pos \n",
    "print(position)\n",
    "print(chr(position + start)) "
   ]
  },
  {
   "cell_type": "code",
   "execution_count": 8,
   "metadata": {},
   "outputs": [
    {
     "name": "stdout",
     "output_type": "stream",
     "text": [
      "a: 97\n",
      "b: 98\n",
      "c: 99\n",
      "d: 100\n",
      "e: 101\n",
      "f: 102\n",
      "g: 103\n",
      "h: 104\n",
      "i: 105\n",
      "j: 106\n",
      "k: 107\n",
      "l: 108\n",
      "m: 109\n",
      "n: 110\n",
      "o: 111\n",
      "p: 112\n",
      "q: 113\n",
      "r: 114\n",
      "s: 115\n",
      "t: 116\n",
      "u: 117\n",
      "v: 118\n",
      "w: 119\n",
      "x: 120\n",
      "y: 121\n",
      "z: 122\n",
      "A: 65\n",
      "B: 66\n",
      "C: 67\n",
      "D: 68\n",
      "E: 69\n",
      "F: 70\n",
      "G: 71\n",
      "H: 72\n",
      "I: 73\n",
      "J: 74\n",
      "K: 75\n",
      "L: 76\n",
      "M: 77\n",
      "N: 78\n",
      "O: 79\n",
      "P: 80\n",
      "Q: 81\n",
      "R: 82\n",
      "S: 83\n",
      "T: 84\n",
      "U: 85\n",
      "V: 86\n",
      "W: 87\n",
      "X: 88\n",
      "Y: 89\n",
      "Z: 90\n"
     ]
    }
   ],
   "source": [
    "stp = 'abcdefghijklmnopqrstuvwxyz'\n",
    "stp_upper = stp.upper()\n",
    "\n",
    "for char in stp:\n",
    "    print(char + ':', ord(char))\n",
    "\n",
    "for char in stp_upper: print(char + ':', ord(char))\n"
   ]
  }
 ],
 "metadata": {
  "kernelspec": {
   "display_name": "Python 3",
   "language": "python",
   "name": "python3"
  },
  "language_info": {
   "codemirror_mode": {
    "name": "ipython",
    "version": 3
   },
   "file_extension": ".py",
   "mimetype": "text/x-python",
   "name": "python",
   "nbconvert_exporter": "python",
   "pygments_lexer": "ipython3",
   "version": "3.12.4"
  }
 },
 "nbformat": 4,
 "nbformat_minor": 2
}
